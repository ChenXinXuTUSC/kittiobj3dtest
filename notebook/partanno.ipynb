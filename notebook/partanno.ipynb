{
 "cells": [
  {
   "cell_type": "code",
   "execution_count": 75,
   "metadata": {},
   "outputs": [],
   "source": [
    "import sys\n",
    "sys.path.append(\"..\")\n",
    "\n",
    "import os\n",
    "import os.path as osp\n",
    "import random"
   ]
  },
  {
   "cell_type": "code",
   "execution_count": 76,
   "metadata": {},
   "outputs": [
    {
     "name": "stdout",
     "output_type": "stream",
     "text": [
      "17775 {1, 2, 3, 4, 5, 6}\n"
     ]
    }
   ],
   "source": [
    "import os\n",
    "import numpy as np\n",
    "\n",
    "total_samples = 0\n",
    "total_labels = set()\n",
    "\n",
    "PARTNO_ROOT = \"../data/partanno\"\n",
    "\n",
    "for cls_dir in os.listdir(PARTNO_ROOT):\n",
    "\tif not osp.isdir(osp.join(PARTNO_ROOT, cls_dir)):\n",
    "\t\tcontinue\n",
    "\tif not osp.exists(osp.join(PARTNO_ROOT, cls_dir, \"points\")) or \\\n",
    "\t\tnot osp.exists(osp.join(PARTNO_ROOT, cls_dir, \"points_label\")):\n",
    "\t\tcontinue\n",
    "\ttotal_samples += len(os.listdir(osp.join(PARTNO_ROOT, cls_dir, \"points\")))\n",
    "\n",
    "\tfor label_txt in os.listdir(osp.join(PARTNO_ROOT, cls_dir, \"points_label\")):\n",
    "\t\tlabel_txt = osp.join(PARTNO_ROOT, cls_dir, \"points_label\", label_txt)\n",
    "\t\ttotal_labels.update(np.unique(np.loadtxt(label_txt).astype(np.int32)))\n",
    "\n",
    "\n",
    "print(total_samples, total_labels)"
   ]
  },
  {
   "cell_type": "code",
   "execution_count": 77,
   "metadata": {},
   "outputs": [],
   "source": [
    "def ply_render(\n",
    "\tpcd,\n",
    "\timg_h: int, img_w: int,\n",
    "\teye: list, up: list,\n",
    "\toutput_path: str\n",
    "):\n",
    "\t'''\n",
    "\t'''\n",
    "\timport numpy as np\n",
    "\timport open3d as o3d\n",
    "\timport open3d.visualization.rendering as rendering\n",
    "\trenderer = rendering.OffscreenRenderer(img_h, img_w)\n",
    "\t# 设置背景颜色 (RGBA)\n",
    "\trenderer.scene.set_background([0.1, 0.1, 0.1, 1.0])\n",
    "\n",
    "\t# 创建材质\n",
    "\tmtl = rendering.MaterialRecord()\n",
    "\tmtl.base_color = [1.0, 1.0, 1.0, 1.0]  # 白色\n",
    "\tmtl.shader = \"defaultUnlit\"\n",
    "\t# 设置点的大小 (以像素为单位)\n",
    "\t# Open3D 0.19.0 及更新版本可能支持通过材质参数调整点大小\n",
    "\t# 对于较旧版本，可能需要查找渲染器或场景的其他属性\n",
    "\tmtl.point_size = 5  # 例如，将点大小设置为 5 像素\n",
    "\t# 将材质应用于点云\n",
    "\trenderer.scene.add_geometry(\"point_cloud\", pcd, mtl)\n",
    "\t\n",
    "\tvfov = 45.0 # 垂直视场角\n",
    "\taspect_ratio = img_w / img_h\n",
    "\tnear_plane = 0.1\n",
    "\tfar_plane = 100.0\n",
    "\tfov_type = rendering.Camera.FovType.Vertical\n",
    "\trenderer.scene.camera.set_projection(vfov, aspect_ratio, near_plane, far_plane, fov_type)\n",
    "\trenderer.scene.camera.look_at([0, 0, 0], eye, up)\n",
    "\n",
    "\t# 进行离屏渲染\n",
    "\timage_o3d = renderer.render_to_image()\n",
    "\t# 保存图片\n",
    "\to3d.io.write_image(output_path, image_o3d)"
   ]
  },
  {
   "cell_type": "code",
   "execution_count": 78,
   "metadata": {},
   "outputs": [],
   "source": [
    "import open3d as o3d\n",
    "import numpy as np\n",
    "\n",
    "PARTNO_ROOT = \"../data/partanno\"\n",
    "\n",
    "syn2cls = dict()\n",
    "with open(osp.join(PARTNO_ROOT, \"synsetoffset2category.txt\"), \"r\") as f:\n",
    "    lines = f.readlines()\n",
    "    for line in lines:\n",
    "        category, synset_offset = line.strip().split()\n",
    "        syn2cls[synset_offset] = category\n",
    "synset_list = list(syn2cls.keys())"
   ]
  },
  {
   "cell_type": "code",
   "execution_count": 100,
   "metadata": {},
   "outputs": [
    {
     "name": "stdout",
     "output_type": "stream",
     "text": [
      "03624134\n",
      "bcd7ed830358dbd6d58ea69ee1ced10e\n"
     ]
    }
   ],
   "source": [
    "# 使用 np 从 synset_list 种随机挑选一个\n",
    "synset = np.random.choice(synset_list, 1)[0]\n",
    "print(synset)\n",
    "sample_list = os.listdir(osp.join(PARTNO_ROOT, synset, \"points\"))\n",
    "\n",
    "sample = osp.splitext(np.random.choice(sample_list, 1)[0])[0]\n",
    "print(sample)\n",
    "\n",
    "points = np.loadtxt(osp.join(PARTNO_ROOT, synset, \"points\", f\"{sample}.pts\"), delimiter=\" \")\n",
    "labels = np.loadtxt(osp.join(PARTNO_ROOT, synset, \"points_label\", f\"{sample}.seg\"), delimiter=\" \").astype(np.int32)"
   ]
  },
  {
   "cell_type": "code",
   "execution_count": 101,
   "metadata": {},
   "outputs": [],
   "source": [
    "# # 根据 labels 中出现过的标签，生成一个调色盘 pallete\n",
    "# pallete = np.random.rand(len(np.unique(labels)), 3)\n",
    "# pallete = pallete / np.sum(pallete, axis=1, keepdims=True)\n",
    "# # pallete = (pallete * 255).astype(np.uint8)\n",
    "# print(pallete)\n",
    "\n",
    "# # 使用 open3d 可视化 points 和 labels\n",
    "# pcd = o3d.geometry.PointCloud()\n",
    "# pcd.points = o3d.utility.Vector3dVector(points)\n",
    "# pcd.colors = o3d.utility.Vector3dVector(pallete[labels - 1])\n",
    "\n",
    "# ply_render(pcd, 512, 512, [1, 1, 1], [0, 1, 0], \"test.png\")"
   ]
  },
  {
   "cell_type": "code",
   "execution_count": 102,
   "metadata": {},
   "outputs": [],
   "source": [
    "import numpy as np\n",
    "def snapshot_voxel(\n",
    "\tcoords: np.ndarray, labels: np.ndarray,\n",
    "\tvoxel_size: float, resolution: list, \n",
    "\tcam_pos, eye_pos\n",
    "):\n",
    "\t'''\n",
    "\tParams\n",
    "\t-\n",
    "\t* coords: np.ndarray, (N, 3), not point features, but point coordinates\n",
    "\t* labels: np.ndarray, (N, )\n",
    "\t* voxel_size: float\n",
    "\t* resolution: list, tuple - (H, W)\n",
    "\t* cam_pos: np.ndarray, list, tuple - initial camera position\n",
    "\t* eye_pos: np.ndarray, list, tuple\t- where camera towards\n",
    "\tReturn\n",
    "\t-\n",
    "\t* feat_map: np.ndarray, (H, W) - feature map with each pixel labeled class index\n",
    "\t'''\n",
    "\tif not isinstance(coords, np.ndarray):\n",
    "\t\traise TypeError(\"coords must be np.ndarray\")\n",
    "\tif not isinstance(labels, np.ndarray):\n",
    "\t\traise TypeError(\"labels must be np.ndarray\")\n",
    "\tif not isinstance(voxel_size, float):\n",
    "\t\traise TypeError(\"voxel_size must be float\")\n",
    "\tif not isinstance(resolution, np.ndarray):\n",
    "\t\tif isinstance(resolution, list) or isinstance(resolution, tuple):\n",
    "\t\t\tresolution = np.array(resolution, dtype=np.int32)\n",
    "\t\telse:\n",
    "\t\t\traise TypeError(\"cam_pos must be np.ndarray/list/tuple\")\n",
    "\tif not isinstance(cam_pos, np.ndarray):\n",
    "\t\tif isinstance(cam_pos, list) or isinstance(cam_pos, tuple):\n",
    "\t\t\tcam_pos = np.array(cam_pos, dtype=np.float32)\n",
    "\t\telse:\n",
    "\t\t\traise TypeError(\"cam_pos must be np.ndarray/list/tuple\")\n",
    "\tif not isinstance(eye_pos, np.ndarray):\n",
    "\t\tif isinstance(eye_pos, list) or isinstance(eye_pos, tuple):\n",
    "\t\t\teye_pos = np.array(eye_pos, dtype=np.float32)\n",
    "\t\telse:\n",
    "\t\t\traise TypeError(\"eye_pos must be np.ndarray/list/tuple\")\n",
    "\n",
    "\timport utils\n",
    "\t# make a copy of the original points\n",
    "\tcoords = coords.copy()\n",
    "\torgidx = np.arange(len(coords))\n",
    "\n",
    "\t# 移动视点至投影中心\n",
    "\tcoords -= eye_pos\n",
    "\tcam_pos -= eye_pos\n",
    "\tcam_pos /= np.linalg.norm(cam_pos)\n",
    "\n",
    "\n",
    "\t# cam_pos 现在就是投影轴，设 cam_pos 为 z 轴，投影平面为 x-y 平面，将 cam_pos 变换至 [0,0,1] z 轴\n",
    "\tR = utils.A2B_R(cam_pos, np.array([0,0,1]))\n",
    "\t# 与 X-Y 平面轴对齐\n",
    "\tcoords = coords @ R.T\n",
    "\t\n",
    "\t# 根据 range 限定的范围，裁剪点云（给定以 cam_pos 为中心的长宽，单位为米，只裁剪 X-Y 平面，Z 轴无限制）\n",
    "\tcoords_vxlzed = (coords // voxel_size).astype(np.int32)\n",
    "\t# 保留拍摄栅格范围内的体素\n",
    "\tmask  = np.abs(coords_vxlzed[:, 0]) < (resolution[0] // 2)\n",
    "\tmask &= np.abs(coords_vxlzed[:, 1]) < (resolution[1] // 2)\n",
    "\n",
    "\tcoords_vxlzed_clipped = coords_vxlzed[mask]\n",
    "\tlabels_clipped = labels[mask]\n",
    "\torgidx_clipped = orgidx[mask]\n",
    "\n",
    "\t# 转换为屏幕栅格坐标系\n",
    "\tcoords_vxlzed_clipped = coords_vxlzed_clipped - coords_vxlzed_clipped.min(axis=0)\n",
    "\t\n",
    "\t# voxels = np.zeros((*(coords_vxlzed.max(axis=0) + 1), labels.max() + 1), dtype=np.int32)\n",
    "\tvoxels = np.zeros((\n",
    "\t\tresolution[0],\n",
    "\t\tresolution[1],\n",
    "\t\tcoords_vxlzed_clipped.max(axis=0)[2] + 1,\n",
    "\t\tlabels.max() + 1\n",
    "\t), dtype=np.int32)\n",
    "\tnp.add.at(voxels, (*coords_vxlzed_clipped.T, labels_clipped), 1)\n",
    "\n",
    "\t# 每个体素的类别取类别计数最高的那个类别\n",
    "\tvoxels = voxels.argmax(axis=-1)\n",
    "\n",
    "\t# 1. 提取非空体素坐标 nz_idxs = non_zero_indices\n",
    "\tnz_idxs = np.nonzero(voxels)\n",
    "\t# 以 Z 轴投影方向平面上体素横纵坐标\n",
    "\tnz_idxs_xy_tuple = np.array(list(zip(nz_idxs[0], nz_idxs[1])), dtype=[('x', 'int'), ('y', 'int')])\n",
    "\t\n",
    "\t# 2. 提取非空体素坐标中的第一个非重复坐标\n",
    "\t_, nz_nz_idxs = np.unique(nz_idxs_xy_tuple, return_index=True)\n",
    "\n",
    "\tdata = np.zeros(voxels.shape[:2], dtype=np.int32)\n",
    "\tgdth = np.zeros(voxels.shape[:2], dtype=np.int32)\n",
    "\n",
    "\t# 构造深度图，Z 轴索引等价于深度\n",
    "\tdata[nz_idxs[0][nz_nz_idxs], nz_idxs[1][nz_nz_idxs]] = nz_idxs[2][nz_nz_idxs]\n",
    "\n",
    "\t# 构造语义分割图\n",
    "\tgdth[\n",
    "\t\tnz_idxs[0][nz_nz_idxs],\n",
    "\t\tnz_idxs[1][nz_nz_idxs]\n",
    "\t] = voxels [\n",
    "\t\tnz_idxs[0][nz_nz_idxs],\n",
    "\t\tnz_idxs[1][nz_nz_idxs],\n",
    "\t\tnz_idxs[2][nz_nz_idxs]\n",
    "\t]\n",
    "\n",
    "\t# 构造原始点云索引索引到投影图像素的映射\n",
    "\tcoords_vxlzed_clipped_xy_tuple = np.array(\n",
    "\t\tlist(zip(coords_vxlzed_clipped[:, 0], coords_vxlzed_clipped[:, 1])),\n",
    "\t\tdtype=[('x', 'int'), ('y', 'int')]\n",
    "\t)\n",
    "\t# 这个掩码标记了那些在存在于非空体素中的点云的索引\n",
    "\tmask = np.isin(coords_vxlzed_clipped_xy_tuple, nz_idxs_xy_tuple[nz_nz_idxs])\n",
    "\trmap = np.hstack([orgidx_clipped.reshape(-1, 1), coords_vxlzed_clipped[mask, :2]])\n",
    "\n",
    "\treturn data, gdth, rmap"
   ]
  },
  {
   "cell_type": "code",
   "execution_count": 103,
   "metadata": {},
   "outputs": [
    {
     "name": "stdout",
     "output_type": "stream",
     "text": [
      "retain rate: 0.55\n"
     ]
    },
    {
     "data": {
      "image/png": "[encoded data removed]",
      "text/plain": [
       "<Figure size 600x300 with 2 Axes>"
      ]
     },
     "metadata": {},
     "output_type": "display_data"
    }
   ],
   "source": [
    "data, gdth, rmap = snapshot_voxel(points[:, :3], labels, 0.01, [32, 32], [-1, -1, -1], [0, 0, 0])\n",
    "print(f\"retain rate: {len(rmap) / len(points):.2f}\")\n",
    "\n",
    "import matplotlib.pyplot as plt\n",
    "# 创建包含两个子图的图形\n",
    "fig, axs = plt.subplots(1, 2, figsize=(6, 3))\n",
    "# 在第一个子图中显示 data\n",
    "axs[0].imshow(data, interpolation='nearest', cmap='gray')\n",
    "axs[0].set_title('data')\n",
    "# 在第二个子图中显示 gdth\n",
    "axs[1].imshow(gdth, interpolation='nearest', cmap='tab20')\n",
    "axs[1].set_title('gdth')\n",
    "# 调整布局\n",
    "plt.tight_layout()\n",
    "plt.show()"
   ]
  },
  {
   "cell_type": "code",
   "execution_count": 104,
   "metadata": {},
   "outputs": [
    {
     "name": "stdout",
     "output_type": "stream",
     "text": [
      "[Open3D INFO] EGL headless mode enabled.\n",
      "FEngine (64 bits) created at 0x9525150 (threading is enabled)\n",
      "EGL(1.5)\n",
      "OpenGL(4.1)\n"
     ]
    }
   ],
   "source": [
    "# 检查 rmap 的正确性\n",
    "pallete = np.random.rand(labels.max() + 1, 3)\n",
    "pallete = pallete / np.sum(pallete, axis=1, keepdims=True)\n",
    "\n",
    "pcd = o3d.geometry.PointCloud()\n",
    "# pcd.points = o3d.utility.Vector3dVector(points[rmap[:, 0]])\n",
    "# pcd.colors = o3d.utility.Vector3dVector(pallete[gdth[rmap[:, 1], rmap[:, 2]] - 1])\n",
    "pcd.points = o3d.utility.Vector3dVector(points)\n",
    "colors = np.ones((len(points), 3)) * 0.5\n",
    "colors[rmap[:, 0]] = pallete[gdth[rmap[:, 1], rmap[:, 2]] - 1]\n",
    "pcd.colors = o3d.utility.Vector3dVector(colors)\n",
    "# 保存到 ply 文件\n",
    "o3d.io.write_point_cloud(\"pcd.ply\",  pcd)\n",
    "ply_render(pcd, 512, 512, [1, 1, 1], [0, 1, 0], \"test.png\")"
   ]
  },
  {
   "cell_type": "code",
   "execution_count": 105,
   "metadata": {},
   "outputs": [
    {
     "name": "stdout",
     "output_type": "stream",
     "text": [
      "(array([0, 0, 1, 2, 2]), array([1, 3, 3, 2, 3]))\n",
      "=== fisrt none zero index ===\n",
      "[0 2 3]\n",
      "[1 3 2]\n",
      "=== first none zero hit ===\n",
      "[2 4 5]\n"
     ]
    }
   ],
   "source": [
    "# 示例数组\n",
    "arr = np.array([\n",
    "    [0, 2, 0, 3],\n",
    "    [0, 0, 0, 4],\n",
    "    [0, 0, 5, 6]\n",
    "])\n",
    "# arr = np.array(object=[[0, 1, 0]])\n",
    "# 获取非零元素的索引\n",
    "non_zero_indices = np.nonzero(arr)\n",
    "print(non_zero_indices)\n",
    "\n",
    "# 使用 np.unique 获取唯一值和它们第一次出现的索引\n",
    "unique_values, indices = np.unique(non_zero_indices[0], return_index=True)\n",
    "print(\"=== fisrt none zero index ===\")\n",
    "print(indices)\n",
    "print(non_zero_indices[1][indices])\n",
    "\n",
    "a = non_zero_indices[0][indices]\n",
    "b = non_zero_indices[1][indices]\n",
    "\n",
    "print(\"=== first none zero hit ===\")\n",
    "print(arr[a, b])"
   ]
  },
  {
   "cell_type": "code",
   "execution_count": 106,
   "metadata": {},
   "outputs": [
    {
     "name": "stdout",
     "output_type": "stream",
     "text": [
      "Unique values: [1 2 3 4 5]\n",
      "Indices of first occurrences: [0 1 3 4 6]\n"
     ]
    }
   ],
   "source": [
    "import numpy as np\n",
    "\n",
    "# 示例数组\n",
    "arr = np.array([1, 2, 2, 3, 4, 4, 5, 1])\n",
    "\n",
    "# 使用 np.unique 获取唯一值和它们第一次出现的索引\n",
    "unique_values, indices = np.unique(arr, return_index=True)\n",
    "\n",
    "# 打印结果\n",
    "print(\"Unique values:\", unique_values)\n",
    "print(\"Indices of first occurrences:\", indices)"
   ]
  }
 ],
 "metadata": {
  "kernelspec": {
   "display_name": "torch",
   "language": "python",
   "name": "python3"
  },
  "language_info": {
   "codemirror_mode": {
    "name": "ipython",
    "version": 3
   },
   "file_extension": ".py",
   "mimetype": "text/x-python",
   "name": "python",
   "nbconvert_exporter": "python",
   "pygments_lexer": "ipython3",
   "version": "3.9.19"
  }
 },
 "nbformat": 4,
 "nbformat_minor": 2
}
