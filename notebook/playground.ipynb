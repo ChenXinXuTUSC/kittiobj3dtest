{
 "cells": [
  {
   "cell_type": "code",
   "execution_count": 2,
   "metadata": {},
   "outputs": [
    {
     "name": "stdout",
     "output_type": "stream",
     "text": [
      "Jupyter environment detected. Enabling Open3D WebVisualizer.\n",
      "[Open3D INFO] WebRTC GUI backend enabled.\n",
      "[Open3D INFO] WebRTCWindowSystem: HTTP handshake server disabled.\n"
     ]
    }
   ],
   "source": [
    "import os\n",
    "import os.path as osp\n",
    "\n",
    "import sys\n",
    "sys.path.append(\"..\")\n",
    "\n",
    "import core"
   ]
  },
  {
   "cell_type": "code",
   "execution_count": 5,
   "metadata": {},
   "outputs": [
    {
     "name": "stdout",
     "output_type": "stream",
     "text": [
      "{'batch_size': 8, 'num_epochs': 10, 'model': {'num_cls': 10, 'dropout': 0.5}}\n",
      "8\n",
      "10\n",
      "{'num_cls': 10, 'dropout': 0.5}\n",
      "{'num_cls': 10, 'dropout': 0.5, 'in_channels': 10}\n"
     ]
    }
   ],
   "source": [
    "conf = core.conf.readconfyaml.read(\"../conf/train.yaml\")\n",
    "print(conf)\n",
    "print(conf.batch_size)\n",
    "print(conf.num_epochs)\n",
    "print(conf.model)\n",
    "\n",
    "conf.model.in_channels = 10\n",
    "\n",
    "print(conf.model)"
   ]
  },
  {
   "cell_type": "code",
   "execution_count": 16,
   "metadata": {},
   "outputs": [
    {
     "name": "stdout",
     "output_type": "stream",
     "text": [
      "torch.Size([1, 64, 512, 5])\n"
     ]
    },
    {
     "data": {
      "image/png": "[encoded data removed]",
      "text/plain": [
       "<Figure size 1536x768 with 1 Axes>"
      ]
     },
     "metadata": {},
     "output_type": "display_data"
    }
   ],
   "source": [
    "import sys\n",
    "sys.path.append(\"..\")\n",
    "\n",
    "import torch\n",
    "import torch.utils.data\n",
    "\n",
    "import matplotlib.pyplot as plt\n",
    "\n",
    "import core\n",
    "\n",
    "train_loader = torch.utils.data.DataLoader(\n",
    "    core.dataset.KITTISpherical(\n",
    "        \"../data\", \"train\"\n",
    "    ),\n",
    "    batch_size=1,\n",
    "    shuffle=True,\n",
    "    num_workers=4\n",
    ")\n",
    "\n",
    "for iter, (fmap, gdth) in enumerate(train_loader):\n",
    "    print(fmap.shape)\n",
    "\n",
    "    img = fmap[0][:, :, 3]\n",
    "    # img = gdth[0]\n",
    "    fig = plt.figure(figsize=(12, 6), dpi=128, tight_layout=True)\n",
    "    plt.axis([512, 0, 0, 64])\n",
    "    plt.axis(\"off\")\n",
    "    plt.imshow(img, cmap=\"gray\", aspect=1.5, interpolation='nearest')\n",
    "    plt.savefig(\"test.png\")\n",
    "    break"
   ]
  }
 ],
 "metadata": {
  "kernelspec": {
   "display_name": "torch",
   "language": "python",
   "name": "python3"
  },
  "language_info": {
   "codemirror_mode": {
    "name": "ipython",
    "version": 3
   },
   "file_extension": ".py",
   "mimetype": "text/x-python",
   "name": "python",
   "nbconvert_exporter": "python",
   "pygments_lexer": "ipython3",
   "version": "3.9.19"
  }
 },
 "nbformat": 4,
 "nbformat_minor": 2
}
