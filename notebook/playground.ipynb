{
 "cells": [
  {
   "cell_type": "code",
   "execution_count": 3,
   "metadata": {},
   "outputs": [],
   "source": [
    "import os\n",
    "import os.path as osp\n",
    "\n",
    "import sys\n",
    "sys.path.append(\"..\")\n",
    "\n",
    "import core"
   ]
  },
  {
   "cell_type": "code",
   "execution_count": 8,
   "metadata": {},
   "outputs": [
    {
     "name": "stdout",
     "output_type": "stream",
     "text": [
      "background class: DontCare:0\n"
     ]
    },
    {
     "data": {
      "image/png": "[encoded data removed]",
      "text/plain": [
       "<Figure size 1536x768 with 1 Axes>"
      ]
     },
     "metadata": {},
     "output_type": "display_data"
    },
    {
     "data": {
      "image/png": "[encoded data removed]",
      "text/plain": [
       "<Figure size 1536x768 with 1 Axes>"
      ]
     },
     "metadata": {},
     "output_type": "display_data"
    }
   ],
   "source": [
    "import sys\n",
    "sys.path.append(\"..\")\n",
    "\n",
    "import torch\n",
    "import torch.utils.data\n",
    "import numpy as np\n",
    "\n",
    "import matplotlib.pyplot as plt\n",
    "\n",
    "import core\n",
    "\n",
    "conf_dataset = core.readconfyaml.read(\"../conf/data.yaml\")\n",
    "train_dataset = core.dataset.KITTISpherical(\n",
    "    \"../data\", \"train\", conf_dataset\n",
    ")\n",
    "train_loader = torch.utils.data.DataLoader(\n",
    "    dataset=train_dataset,\n",
    "    batch_size=conf_dataset.batch_size,\n",
    "    shuffle=True,\n",
    "    num_workers=4\n",
    ")\n",
    "\n",
    "print(f\"background class: {conf_dataset.bg_clsname}:{train_dataset.cls2ldx[conf_dataset.bg_clsname]}\")\n",
    "\n",
    "\n",
    "def show_spherical_proj(img: np.ndarray):\n",
    "    plt.figure(figsize=(12, 6), dpi=128, tight_layout=True)\n",
    "    plt.axis([512, 0, 0, 64])\n",
    "    plt.axis(\"off\")\n",
    "    plt.imshow(img, cmap=\"gray\", aspect=1.5, interpolation='nearest')\n",
    "for iter, (fmap, gdth) in enumerate(train_loader):\n",
    "\n",
    "    show_spherical_proj(fmap[0][3])\n",
    "    show_spherical_proj(gdth[0])\n",
    "\n",
    "    break"
   ]
  },
  {
   "cell_type": "code",
   "execution_count": 5,
   "metadata": {},
   "outputs": [
    {
     "name": "stdout",
     "output_type": "stream",
     "text": [
      "输出特征图的形状: torch.Size([1, 1, 10, 10])\n"
     ]
    }
   ],
   "source": [
    "import torch\n",
    "import torch.nn as nn\n",
    "\n",
    "# 假设输入特征图的形状为 (batch_size, channels, 4, 64)\n",
    "batch_size = 1  # 假设 batch_size 为 1\n",
    "channels = 3    # 假设输入通道数为 3\n",
    "input_height = 4\n",
    "input_width = 4\n",
    "\n",
    "# 创建输入特征图\n",
    "input_tensor = torch.randn(batch_size, channels, input_height, input_width)\n",
    "\n",
    "# 定义转置卷积层\n",
    "# 输入通道数为 channels，输出通道数为 out_channels\n",
    "out_channels = 1  # 输出通道数可以根据需要调整\n",
    "transpose_conv = nn.ConvTranspose2d(\n",
    "    in_channels=channels,\n",
    "    out_channels=out_channels,\n",
    "    kernel_size=4,\n",
    "    stride=2,\n",
    "    padding=0\n",
    ")\n",
    "# out = (n - 1) * stride - 2 * padding + kernel_size\n",
    "\n",
    "# 执行转置卷积\n",
    "output_tensor = transpose_conv(input_tensor)\n",
    "\n",
    "# 输出结果的形状\n",
    "print(\"输出特征图的形状:\", output_tensor.shape)"
   ]
  },
  {
   "cell_type": "code",
   "execution_count": 6,
   "metadata": {},
   "outputs": [
    {
     "name": "stdout",
     "output_type": "stream",
     "text": [
      "20231005143045\n"
     ]
    }
   ],
   "source": [
    "from datetime import datetime\n",
    "\n",
    "# 假设有一个特定的时间对象\n",
    "specific_time = datetime(2023, 10, 5, 14, 30, 45)\n",
    "\n",
    "# 格式化时间字符串\n",
    "formatted_time = specific_time.strftime(\"%Y%m%d%H%M%S\")\n",
    "\n",
    "print(formatted_time)"
   ]
  },
  {
   "cell_type": "code",
   "execution_count": 62,
   "metadata": {},
   "outputs": [
    {
     "name": "stdout",
     "output_type": "stream",
     "text": [
      "mask: torch.Size([5, 4, 4])\n",
      "pred: torch.Size([5, 4, 4])\n",
      "accu: torch.Size([5, 4, 4])\n",
      "valid position: 31\n",
      "correct pixel: 19.0\n",
      "tensor(0.2375)\n"
     ]
    }
   ],
   "source": [
    "import torch\n",
    "\n",
    "num_samples = 5\n",
    "num_channel = 3\n",
    "\n",
    "pred = torch.rand((num_samples, num_channel, 4, 4))\n",
    "gdth = torch.randint(0, num_channel, (num_samples, 4, 4))\n",
    "\n",
    "mask = (gdth == 0)\n",
    "print(\"mask:\", mask.shape)\n",
    "pred = torch.argmax(pred, dim=1)\n",
    "print(\"pred:\", pred.shape)\n",
    "accu = (pred == gdth).float()\n",
    "print(\"accu:\", accu.shape)\n",
    "\n",
    "accu[mask] = 0\n",
    "print(\"valid position:\", mask.sum().item())\n",
    "print(\"correct pixel:\", accu.sum().item())\n",
    "print(accu.mean())"
   ]
  },
  {
   "cell_type": "code",
   "execution_count": 29,
   "metadata": {},
   "outputs": [
    {
     "name": "stdout",
     "output_type": "stream",
     "text": [
      "\n",
      "1d data\n",
      "tensor([0.6403, 0.0818, 0.5415])\n",
      "tensor(0)\n",
      "\n",
      "2d data\n",
      "tensor([[0.9280, 0.9709, 0.7435],\n",
      "        [0.5363, 0.2232, 0.3948],\n",
      "        [0.2669, 0.8329, 0.3588]])\n",
      "tensor([0, 0, 0])\n",
      "\n",
      "3d data\n",
      "tensor([[[0.4466, 0.9123, 0.1857],\n",
      "         [0.5757, 0.4012, 0.4985],\n",
      "         [0.3785, 0.3868, 0.5997]],\n",
      "\n",
      "        [[0.1064, 0.7722, 0.6799],\n",
      "         [0.7344, 0.9423, 0.9400],\n",
      "         [0.4237, 0.8418, 0.4642]],\n",
      "\n",
      "        [[0.9217, 0.7884, 0.7682],\n",
      "         [0.3518, 0.2700, 0.0822],\n",
      "         [0.2424, 0.2564, 0.9009]]])\n",
      "tensor([[2, 0, 2],\n",
      "        [1, 1, 1],\n",
      "        [1, 1, 2]])\n"
     ]
    }
   ],
   "source": [
    "print(\"\\n1d data\")\n",
    "data = torch.rand((3))\n",
    "print(data)\n",
    "print(torch.argmax(data, dim=0))\n",
    "\n",
    "print(\"\\n2d data\")\n",
    "data = torch.rand((3, 3))\n",
    "print(data)\n",
    "print(torch.argmax(data, dim=0))\n",
    "\n",
    "print(\"\\n3d data\")\n",
    "data = torch.rand((3, 3, 3))\n",
    "print(data)\n",
    "print(torch.argmax(data, dim=0))"
   ]
  }
 ],
 "metadata": {
  "kernelspec": {
   "display_name": "torch",
   "language": "python",
   "name": "python3"
  },
  "language_info": {
   "codemirror_mode": {
    "name": "ipython",
    "version": 3
   },
   "file_extension": ".py",
   "mimetype": "text/x-python",
   "name": "python",
   "nbconvert_exporter": "python",
   "pygments_lexer": "ipython3",
   "version": "3.9.19"
  }
 },
 "nbformat": 4,
 "nbformat_minor": 2
}
