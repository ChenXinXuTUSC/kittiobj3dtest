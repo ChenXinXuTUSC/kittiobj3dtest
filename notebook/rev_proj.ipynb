{
 "cells": [
  {
   "cell_type": "code",
   "execution_count": 1,
   "id": "8f2391d9",
   "metadata": {},
   "outputs": [],
   "source": [
    "import sys\n",
    "sys.path.append(\"..\")\n",
    "\n",
    "import os\n",
    "import os.path as osp\n",
    "os.environ[\"TORCH_HOME\"] = \".\"\n",
    "\n",
    "import torch\n",
    "import torch.nn as nn\n",
    "import torch.utils.data.dataloader\n",
    "import torch.nn.parallel\n",
    "import torch.distributed\n",
    "\n",
    "import numpy as np"
   ]
  },
  {
   "cell_type": "code",
   "execution_count": 2,
   "id": "b7f87055",
   "metadata": {},
   "outputs": [
    {
     "name": "stdout",
     "output_type": "stream",
     "text": [
      "Jupyter environment detected. Enabling Open3D WebVisualizer.\n",
      "[Open3D INFO] WebRTC GUI backend enabled.\n",
      "[Open3D INFO] WebRTCWindowSystem: HTTP handshake server disabled.\n"
     ]
    }
   ],
   "source": [
    "import core"
   ]
  },
  {
   "cell_type": "code",
   "execution_count": 3,
   "id": "be522e1f",
   "metadata": {},
   "outputs": [],
   "source": [
    "conf_main = core.readconfyaml.read(\"conf/pipe/deeplab+kittisemantic.yaml\")\n",
    "\n",
    "args_dataset = core.readconfyaml.read(conf_main.dataset.conf_yaml)\n",
    "args_model   = core.readconfyaml.read(conf_main.model.conf_yaml)\n",
    "args_loss\t = core.readconfyaml.read(conf_main.loss.conf_yaml)\n",
    "args_metric  = core.readconfyaml.read(conf_main.metric.conf_yaml)"
   ]
  },
  {
   "cell_type": "code",
   "execution_count": 4,
   "id": "ff6942a7",
   "metadata": {},
   "outputs": [],
   "source": [
    "testt_dataset = core.dataset.KITTISemantic(\n",
    "\tsplit=\"testt\",\n",
    "\t**args_dataset\n",
    ")\n",
    "\n",
    "testt_dataloader = torch.utils.data.DataLoader(\n",
    "\tdataset=testt_dataset,\n",
    "\tcollate_fn=testt_dataset.collate_fn(\"testt\"),\n",
    "\tbatch_size=4,\n",
    "\tshuffle=True,\n",
    "\tpin_memory=True,\n",
    "\tdrop_last=True\n",
    ")"
   ]
  },
  {
   "cell_type": "code",
   "execution_count": 5,
   "id": "b0b054ea",
   "metadata": {},
   "outputs": [],
   "source": [
    "metriclog = core.metric.DeepLabV3Metric(\n",
    "\t**args_metric\n",
    ")"
   ]
  },
  {
   "cell_type": "code",
   "execution_count": 6,
   "id": "da0f9131",
   "metadata": {},
   "outputs": [
    {
     "data": {
      "text/plain": [
       "<All keys matched successfully>"
      ]
     },
     "execution_count": 6,
     "metadata": {},
     "output_type": "execute_result"
    }
   ],
   "source": [
    "os.environ['MASTER_ADDR'] = 'localhost' # 设置一个本地地址\n",
    "os.environ['MASTER_PORT'] = '29500' # 设置一个本地端口\n",
    "\n",
    "torch.distributed.init_process_group(\n",
    "\tbackend=\"nccl\",\n",
    "\tworld_size=1,\n",
    "\trank=0\n",
    ")\n",
    "device = torch.device(0)\n",
    "\n",
    "model = nn.parallel.DistributedDataParallel(\n",
    "\tcore.model.DeepLabV3(\n",
    "\t\tin_channels=5,\n",
    "\t\tout_channels=34\n",
    "\t).to(device),\n",
    "\tdevice_ids=[0]\n",
    ")\n",
    "model.load_state_dict(torch.load(\"log/test/deeplabv3+kittisem/20250427194725/pth/best_valid.pth\"))"
   ]
  },
  {
   "cell_type": "code",
   "execution_count": 7,
   "id": "774b0c04",
   "metadata": {},
   "outputs": [],
   "source": [
    "model.eval()\n",
    "for iter, batch in enumerate(testt_dataloader):\n",
    "\tdata, gdth, rmap = batch\n",
    "\tpred = model(data)\n",
    "\t# pred = torch.argmax(pred[\"out\"], dim=1)\n",
    "\t# print(pred.shape)\n",
    "\t# pred_img = torch.argmax(pred[\"out\"][0], dim=0).cpu().numpy()\n",
    "\t# pred_img = metriclog.visualize_fmap(pred_img)\n",
    "\n",
    "\t# retrive reverse map relationship\n",
    "\t# rmap = [x[\"ptpix\"][:x[\"valid\"]] for x in rmap]\n",
    "\tbreak"
   ]
  },
  {
   "cell_type": "code",
   "execution_count": null,
   "id": "2e5eb9c4",
   "metadata": {},
   "outputs": [
    {
     "ename": "AttributeError",
     "evalue": "'numpy.ndarray' object has no attribute 'numpy'",
     "output_type": "error",
     "traceback": [
      "\u001b[0;31m---------------------------------------------------------------------------\u001b[0m",
      "\u001b[0;31mAttributeError\u001b[0m                            Traceback (most recent call last)",
      "Cell \u001b[0;32mIn[8], line 8\u001b[0m\n\u001b[1;32m      6\u001b[0m pallete \u001b[38;5;241m=\u001b[39m args_dataset\u001b[38;5;241m.\u001b[39mpallete\n\u001b[1;32m      7\u001b[0m \u001b[38;5;28;01mfor\u001b[39;00m ptpix, view \u001b[38;5;129;01min\u001b[39;00m \u001b[38;5;28mzip\u001b[39m(rmap, pred):\n\u001b[0;32m----> 8\u001b[0m \tptpix \u001b[38;5;241m=\u001b[39m \u001b[43mptpix\u001b[49m\u001b[38;5;241;43m.\u001b[39;49m\u001b[43mnumpy\u001b[49m()\n\u001b[1;32m      9\u001b[0m \tpoints \u001b[38;5;241m=\u001b[39m ptpix[:, :\u001b[38;5;241m3\u001b[39m]\n\u001b[1;32m     10\u001b[0m \tcoords \u001b[38;5;241m=\u001b[39m ptpix[:, \u001b[38;5;241m5\u001b[39m:]\n",
      "\u001b[0;31mAttributeError\u001b[0m: 'numpy.ndarray' object has no attribute 'numpy'"
     ]
    }
   ],
   "source": [
    "import utils\n",
    "pred = torch.argmax(pred[\"out\"], dim=1)\n",
    "rmap = [x[\"ptpix\"][:x[\"valid\"]] for x in rmap]"
   ]
  },
  {
   "cell_type": "code",
   "execution_count": 22,
   "id": "bd7e24c5",
   "metadata": {},
   "outputs": [
    {
     "name": "stdout",
     "output_type": "stream",
     "text": [
      "[[  0   0   0]\n",
      " [  0   0   0]\n",
      " [  0   0   0]\n",
      " ...\n",
      " [255   0 255]\n",
      " [255   0 255]\n",
      " [255   0 255]]\n"
     ]
    }
   ],
   "source": [
    "# output labeled points\n",
    "pallete = np.array(list(args_dataset.pallete.values()))\n",
    "for ptpix, view in zip(rmap, pred):\n",
    "\tpoints = ptpix[:, :3]\n",
    "\tcoords = ptpix[:, 4:].astype(np.int32)\n",
    "\tview = view.cpu().numpy()\n",
    "\tcolors = pallete[view[coords[:, 0], coords[:, 1]]]\n",
    "\tprint(colors)\n",
    "\tutils.save_pcd(points, colors)\n",
    "\tbreak"
   ]
  },
  {
   "cell_type": "code",
   "execution_count": null,
   "id": "50d4f9f0",
   "metadata": {},
   "outputs": [
    {
     "ename": "NameError",
     "evalue": "name 'pred_img' is not defined",
     "output_type": "error",
     "traceback": [
      "\u001b[0;31m---------------------------------------------------------------------------\u001b[0m",
      "\u001b[0;31mNameError\u001b[0m                                 Traceback (most recent call last)",
      "Cell \u001b[0;32mIn[9], line 3\u001b[0m\n\u001b[1;32m      1\u001b[0m \u001b[38;5;28;01mimport\u001b[39;00m \u001b[38;5;21;01mmatplotlib\u001b[39;00m\u001b[38;5;21;01m.\u001b[39;00m\u001b[38;5;21;01mpyplot\u001b[39;00m \u001b[38;5;28;01mas\u001b[39;00m \u001b[38;5;21;01mplt\u001b[39;00m\n\u001b[0;32m----> 3\u001b[0m HEI, WID \u001b[38;5;241m=\u001b[39m \u001b[43mpred_img\u001b[49m\u001b[38;5;241m.\u001b[39mshape[:\u001b[38;5;241m2\u001b[39m]\n\u001b[1;32m      4\u001b[0m plt\u001b[38;5;241m.\u001b[39mfigure(figsize\u001b[38;5;241m=\u001b[39m(\u001b[38;5;241m12\u001b[39m, \u001b[38;5;241m6\u001b[39m), dpi\u001b[38;5;241m=\u001b[39m\u001b[38;5;241m128\u001b[39m, tight_layout\u001b[38;5;241m=\u001b[39m\u001b[38;5;28;01mTrue\u001b[39;00m)\n\u001b[1;32m      5\u001b[0m plt\u001b[38;5;241m.\u001b[39maxis([WID, \u001b[38;5;241m0\u001b[39m, \u001b[38;5;241m0\u001b[39m, HEI])\n",
      "\u001b[0;31mNameError\u001b[0m: name 'pred_img' is not defined"
     ]
    }
   ],
   "source": [
    "import matplotlib.pyplot as plt\n",
    "\n",
    "HEI, WID = pred_img.shape[:2]\n",
    "plt.figure(figsize=(12, 6), dpi=128, tight_layout=True)\n",
    "plt.axis([WID, 0, 0, HEI])\n",
    "plt.axis(\"off\")\n",
    "plt.imshow(pred_img, interpolation='nearest')"
   ]
  }
 ],
 "metadata": {
  "kernelspec": {
   "display_name": "torch",
   "language": "python",
   "name": "python3"
  },
  "language_info": {
   "codemirror_mode": {
    "name": "ipython",
    "version": 3
   },
   "file_extension": ".py",
   "mimetype": "text/x-python",
   "name": "python",
   "nbconvert_exporter": "python",
   "pygments_lexer": "ipython3",
   "version": "3.9.19"
  }
 },
 "nbformat": 4,
 "nbformat_minor": 5
}
